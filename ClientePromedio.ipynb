{
  "nbformat": 4,
  "nbformat_minor": 0,
  "metadata": {
    "colab": {
      "provenance": []
    },
    "kernelspec": {
      "name": "python3",
      "display_name": "Python 3"
    },
    "language_info": {
      "name": "python"
    }
  },
  "cells": [
    {
      "cell_type": "code",
      "source": [
        "from google.colab import drive\n",
        "drive.mount('/content/drive')\n"
      ],
      "metadata": {
        "colab": {
          "base_uri": "https://localhost:8080/"
        },
        "id": "ttTuQu07hYQ0",
        "outputId": "6e7f13aa-0f4e-473f-96be-b7a09b162706"
      },
      "execution_count": null,
      "outputs": [
        {
          "output_type": "stream",
          "name": "stdout",
          "text": [
            "Mounted at /content/drive\n"
          ]
        }
      ]
    },
    {
      "cell_type": "code",
      "source": [
        "!pip install pandas scikit-learn numpy"
      ],
      "metadata": {
        "colab": {
          "base_uri": "https://localhost:8080/"
        },
        "id": "-nKpsFX1eANT",
        "outputId": "cd501e9f-017c-4720-accf-2dbc3793169a"
      },
      "execution_count": null,
      "outputs": [
        {
          "output_type": "stream",
          "name": "stdout",
          "text": [
            "Requirement already satisfied: pandas in /usr/local/lib/python3.10/dist-packages (2.1.4)\n",
            "Requirement already satisfied: scikit-learn in /usr/local/lib/python3.10/dist-packages (1.3.2)\n",
            "Requirement already satisfied: numpy in /usr/local/lib/python3.10/dist-packages (1.26.4)\n",
            "Requirement already satisfied: python-dateutil>=2.8.2 in /usr/local/lib/python3.10/dist-packages (from pandas) (2.8.2)\n",
            "Requirement already satisfied: pytz>=2020.1 in /usr/local/lib/python3.10/dist-packages (from pandas) (2024.1)\n",
            "Requirement already satisfied: tzdata>=2022.1 in /usr/local/lib/python3.10/dist-packages (from pandas) (2024.1)\n",
            "Requirement already satisfied: scipy>=1.5.0 in /usr/local/lib/python3.10/dist-packages (from scikit-learn) (1.13.1)\n",
            "Requirement already satisfied: joblib>=1.1.1 in /usr/local/lib/python3.10/dist-packages (from scikit-learn) (1.4.2)\n",
            "Requirement already satisfied: threadpoolctl>=2.0.0 in /usr/local/lib/python3.10/dist-packages (from scikit-learn) (3.5.0)\n",
            "Requirement already satisfied: six>=1.5 in /usr/local/lib/python3.10/dist-packages (from python-dateutil>=2.8.2->pandas) (1.16.0)\n"
          ]
        }
      ]
    },
    {
      "cell_type": "code",
      "source": [
        "import pandas as pd\n",
        "\n",
        "# Cargar los datos\n",
        "df = pd.read_csv('/content/drive/MyDrive/Trabajo/name_gender_dataset.csv')\n",
        "\n",
        "# Verificar los primeros registros\n",
        "print(df.head())"
      ],
      "metadata": {
        "id": "o6NbhOkXdImQ",
        "colab": {
          "base_uri": "https://localhost:8080/"
        },
        "outputId": "2b27ed32-0444-4beb-dc86-0875d6aeb6bf"
      },
      "execution_count": null,
      "outputs": [
        {
          "output_type": "stream",
          "name": "stdout",
          "text": [
            "      Name Gender    Count  Probability\n",
            "0    James      M  5304407     0.014517\n",
            "1     John      M  5260831     0.014398\n",
            "2   Robert      M  4970386     0.013603\n",
            "3  Michael      M  4579950     0.012534\n",
            "4  William      M  4226608     0.011567\n"
          ]
        }
      ]
    },
    {
      "cell_type": "code",
      "source": [
        "from sklearn.feature_extraction.text import CountVectorizer\n",
        "\n",
        "# Convertir nombres en características numéricas\n",
        "vectorizer = CountVectorizer(analyzer='char', ngram_range=(1, 3))\n",
        "X = vectorizer.fit_transform(df['Name'])\n",
        "\n",
        "# Convertir las etiquetas (géneros) en valores numéricos\n",
        "from sklearn.preprocessing import LabelEncoder\n",
        "\n",
        "le = LabelEncoder()\n",
        "y = le.fit_transform(df['Gender'])\n"
      ],
      "metadata": {
        "id": "ENhrkoLtyHh5"
      },
      "execution_count": null,
      "outputs": []
    },
    {
      "cell_type": "code",
      "source": [
        "#Dividir datos de entrenamiento y prueba\n",
        "\n",
        "from sklearn.model_selection import train_test_split\n",
        "\n",
        "X_train, X_test, y_train, y_test = train_test_split(X, y, test_size=0.2, random_state=42)\n"
      ],
      "metadata": {
        "id": "W6L31KXzfOxS"
      },
      "execution_count": null,
      "outputs": []
    },
    {
      "cell_type": "code",
      "source": [
        "#Realizar entrenamiento del modelo\n",
        "\n",
        "from sklearn.linear_model import LogisticRegression\n",
        "\n",
        "model = LogisticRegression()\n",
        "model.fit(X_train, y_train)\n"
      ],
      "metadata": {
        "colab": {
          "base_uri": "https://localhost:8080/",
          "height": 214
        },
        "id": "_kmx8nVLfUD4",
        "outputId": "9aab00e5-aed8-411a-8fcd-3349e9bda9dd"
      },
      "execution_count": null,
      "outputs": [
        {
          "output_type": "stream",
          "name": "stderr",
          "text": [
            "/usr/local/lib/python3.10/dist-packages/sklearn/linear_model/_logistic.py:460: ConvergenceWarning: lbfgs failed to converge (status=1):\n",
            "STOP: TOTAL NO. of ITERATIONS REACHED LIMIT.\n",
            "\n",
            "Increase the number of iterations (max_iter) or scale the data as shown in:\n",
            "    https://scikit-learn.org/stable/modules/preprocessing.html\n",
            "Please also refer to the documentation for alternative solver options:\n",
            "    https://scikit-learn.org/stable/modules/linear_model.html#logistic-regression\n",
            "  n_iter_i = _check_optimize_result(\n"
          ]
        },
        {
          "output_type": "execute_result",
          "data": {
            "text/plain": [
              "LogisticRegression()"
            ],
            "text/html": [
              "<style>#sk-container-id-1 {color: black;}#sk-container-id-1 pre{padding: 0;}#sk-container-id-1 div.sk-toggleable {background-color: white;}#sk-container-id-1 label.sk-toggleable__label {cursor: pointer;display: block;width: 100%;margin-bottom: 0;padding: 0.3em;box-sizing: border-box;text-align: center;}#sk-container-id-1 label.sk-toggleable__label-arrow:before {content: \"▸\";float: left;margin-right: 0.25em;color: #696969;}#sk-container-id-1 label.sk-toggleable__label-arrow:hover:before {color: black;}#sk-container-id-1 div.sk-estimator:hover label.sk-toggleable__label-arrow:before {color: black;}#sk-container-id-1 div.sk-toggleable__content {max-height: 0;max-width: 0;overflow: hidden;text-align: left;background-color: #f0f8ff;}#sk-container-id-1 div.sk-toggleable__content pre {margin: 0.2em;color: black;border-radius: 0.25em;background-color: #f0f8ff;}#sk-container-id-1 input.sk-toggleable__control:checked~div.sk-toggleable__content {max-height: 200px;max-width: 100%;overflow: auto;}#sk-container-id-1 input.sk-toggleable__control:checked~label.sk-toggleable__label-arrow:before {content: \"▾\";}#sk-container-id-1 div.sk-estimator input.sk-toggleable__control:checked~label.sk-toggleable__label {background-color: #d4ebff;}#sk-container-id-1 div.sk-label input.sk-toggleable__control:checked~label.sk-toggleable__label {background-color: #d4ebff;}#sk-container-id-1 input.sk-hidden--visually {border: 0;clip: rect(1px 1px 1px 1px);clip: rect(1px, 1px, 1px, 1px);height: 1px;margin: -1px;overflow: hidden;padding: 0;position: absolute;width: 1px;}#sk-container-id-1 div.sk-estimator {font-family: monospace;background-color: #f0f8ff;border: 1px dotted black;border-radius: 0.25em;box-sizing: border-box;margin-bottom: 0.5em;}#sk-container-id-1 div.sk-estimator:hover {background-color: #d4ebff;}#sk-container-id-1 div.sk-parallel-item::after {content: \"\";width: 100%;border-bottom: 1px solid gray;flex-grow: 1;}#sk-container-id-1 div.sk-label:hover label.sk-toggleable__label {background-color: #d4ebff;}#sk-container-id-1 div.sk-serial::before {content: \"\";position: absolute;border-left: 1px solid gray;box-sizing: border-box;top: 0;bottom: 0;left: 50%;z-index: 0;}#sk-container-id-1 div.sk-serial {display: flex;flex-direction: column;align-items: center;background-color: white;padding-right: 0.2em;padding-left: 0.2em;position: relative;}#sk-container-id-1 div.sk-item {position: relative;z-index: 1;}#sk-container-id-1 div.sk-parallel {display: flex;align-items: stretch;justify-content: center;background-color: white;position: relative;}#sk-container-id-1 div.sk-item::before, #sk-container-id-1 div.sk-parallel-item::before {content: \"\";position: absolute;border-left: 1px solid gray;box-sizing: border-box;top: 0;bottom: 0;left: 50%;z-index: -1;}#sk-container-id-1 div.sk-parallel-item {display: flex;flex-direction: column;z-index: 1;position: relative;background-color: white;}#sk-container-id-1 div.sk-parallel-item:first-child::after {align-self: flex-end;width: 50%;}#sk-container-id-1 div.sk-parallel-item:last-child::after {align-self: flex-start;width: 50%;}#sk-container-id-1 div.sk-parallel-item:only-child::after {width: 0;}#sk-container-id-1 div.sk-dashed-wrapped {border: 1px dashed gray;margin: 0 0.4em 0.5em 0.4em;box-sizing: border-box;padding-bottom: 0.4em;background-color: white;}#sk-container-id-1 div.sk-label label {font-family: monospace;font-weight: bold;display: inline-block;line-height: 1.2em;}#sk-container-id-1 div.sk-label-container {text-align: center;}#sk-container-id-1 div.sk-container {/* jupyter's `normalize.less` sets `[hidden] { display: none; }` but bootstrap.min.css set `[hidden] { display: none !important; }` so we also need the `!important` here to be able to override the default hidden behavior on the sphinx rendered scikit-learn.org. See: https://github.com/scikit-learn/scikit-learn/issues/21755 */display: inline-block !important;position: relative;}#sk-container-id-1 div.sk-text-repr-fallback {display: none;}</style><div id=\"sk-container-id-1\" class=\"sk-top-container\"><div class=\"sk-text-repr-fallback\"><pre>LogisticRegression()</pre><b>In a Jupyter environment, please rerun this cell to show the HTML representation or trust the notebook. <br />On GitHub, the HTML representation is unable to render, please try loading this page with nbviewer.org.</b></div><div class=\"sk-container\" hidden><div class=\"sk-item\"><div class=\"sk-estimator sk-toggleable\"><input class=\"sk-toggleable__control sk-hidden--visually\" id=\"sk-estimator-id-1\" type=\"checkbox\" checked><label for=\"sk-estimator-id-1\" class=\"sk-toggleable__label sk-toggleable__label-arrow\">LogisticRegression</label><div class=\"sk-toggleable__content\"><pre>LogisticRegression()</pre></div></div></div></div></div>"
            ]
          },
          "metadata": {},
          "execution_count": 16
        }
      ]
    },
    {
      "cell_type": "code",
      "source": [
        "from sklearn.metrics import accuracy_score, classification_report\n",
        "\n",
        "y_pred = model.predict(X_test)\n",
        "\n",
        "print(f\"Accuracy: {accuracy_score(y_test, y_pred)}\")\n",
        "print(classification_report(y_test, y_pred, target_names=le.classes_))\n"
      ],
      "metadata": {
        "colab": {
          "base_uri": "https://localhost:8080/"
        },
        "id": "HJTz8DZofoen",
        "outputId": "1f60d820-4d78-4003-c2ea-074404f15d97"
      },
      "execution_count": null,
      "outputs": [
        {
          "output_type": "stream",
          "name": "stdout",
          "text": [
            "Accuracy: 0.8069192639369865\n",
            "              precision    recall  f1-score   support\n",
            "\n",
            "           F       0.84      0.85      0.84     18029\n",
            "           M       0.76      0.74      0.75     11425\n",
            "\n",
            "    accuracy                           0.81     29454\n",
            "   macro avg       0.80      0.79      0.80     29454\n",
            "weighted avg       0.81      0.81      0.81     29454\n",
            "\n"
          ]
        }
      ]
    },
    {
      "cell_type": "code",
      "source": [
        "import chardet\n",
        "\n",
        "ruta_archivo = '/content/drive/MyDrive/Trabajo/nombres.csv'\n",
        "\n",
        "# Función para detectar la codificación\n",
        "def detectar_codificacion(ruta_archivo):\n",
        "    with open(ruta_archivo, 'rb') as f:\n",
        "        resultado = chardet.detect(f.read())\n",
        "    return resultado['encoding']\n",
        "\n",
        "# Detectar la codificación\n",
        "codificacion = detectar_codificacion(ruta_archivo)\n",
        "\n",
        "# Leer el archivo con la codificación detectada, especificando dtype para ID_CUENTA\n",
        "df1 = pd.read_csv(ruta_archivo, delimiter=';', encoding=codificacion, na_values=['NA'], on_bad_lines='warn', dtype={'ID_CUENTA': str})\n",
        "\n",
        "print(df1.head())"
      ],
      "metadata": {
        "colab": {
          "base_uri": "https://localhost:8080/"
        },
        "id": "gMiG1LhZgM64",
        "outputId": "052b8fe4-997a-4dea-fade-bc12c66bf2bd"
      },
      "execution_count": null,
      "outputs": [
        {
          "output_type": "stream",
          "name": "stdout",
          "text": [
            "      NOMBRE TIPO_DE_DOCUMENTO NÚMERO_DE_DOCUMENTO  PLAN_TECNICO  \\\n",
            "0  CEBASTIAN                CC            14894498          25.0   \n",
            "1    MARICEL                CC            66821416          25.0   \n",
            "2     ROBERT                CC          1144209282          25.0   \n",
            "3      DIANA                CC          1116443720          25.0   \n",
            "4      DIANA                CC          1130629051          25.0   \n",
            "\n",
            "             MUNICIPIO  \n",
            "0  GUADALAJARA DE BUGA  \n",
            "1           CANDELARIA  \n",
            "2              PALMIRA  \n",
            "3               ZARZAL  \n",
            "4           CANDELARIA  \n"
          ]
        }
      ]
    },
    {
      "cell_type": "code",
      "source": [
        "#Vectorizar los nombres de df1\n",
        "df1['NOMBRE'] = df1['NOMBRE'].fillna('')  # Remaplzar NaN por campos vacios\n",
        "\n",
        "# Transformar nombres\n",
        "X_new = vectorizer.transform(df1['NOMBRE'])\n",
        "\n",
        "# Predecir generos\n",
        "y_pred_new = model.predict(X_new)\n",
        "\n",
        "# Convertir predición numerica a genero\n",
        "y_pred_labels = le.inverse_transform(y_pred_new)\n",
        "\n",
        "# Agregar columna con la predección realizada\n",
        "df1['Genero_Predicho'] = y_pred_labels\n",
        "\n",
        "print(df1.head())\n"
      ],
      "metadata": {
        "colab": {
          "base_uri": "https://localhost:8080/"
        },
        "id": "O12zUg4xhHiL",
        "outputId": "7287b829-0e67-4f6a-85d4-6e688048efce"
      },
      "execution_count": null,
      "outputs": [
        {
          "output_type": "stream",
          "name": "stdout",
          "text": [
            "      NOMBRE TIPO_DE_DOCUMENTO NÚMERO_DE_DOCUMENTO  PLAN_TECNICO  \\\n",
            "0  CEBASTIAN                CC            14894498          25.0   \n",
            "1    MARICEL                CC            66821416          25.0   \n",
            "2     ROBERT                CC          1144209282          25.0   \n",
            "3      DIANA                CC          1116443720          25.0   \n",
            "4      DIANA                CC          1130629051          25.0   \n",
            "\n",
            "             MUNICIPIO Genero_Predicho  \n",
            "0  GUADALAJARA DE BUGA               M  \n",
            "1           CANDELARIA               F  \n",
            "2              PALMIRA               M  \n",
            "3               ZARZAL               F  \n",
            "4           CANDELARIA               F  \n"
          ]
        }
      ]
    },
    {
      "cell_type": "code",
      "source": [
        "import pandas as pd\n",
        "from collections import Counter\n",
        "\n",
        "# Contar las predicciones\n",
        "conteo_predicciones = Counter(df1['Genero_Predicho'])\n",
        "\n",
        "# Crear un DataFrame a partir del conteo\n",
        "df_conteo = pd.DataFrame.from_dict(conteo_predicciones, orient='index', columns=['Conteo'])\n",
        "\n",
        "# Calcular la exactitud general del modelo\n",
        "exactitud_general = accuracy_score(y_test, y_pred)\n",
        "\n",
        "# Agregar la exactitud general al DataFrame\n",
        "df_conteo.loc['Exactitud General'] = exactitud_general\n",
        "\n",
        "# Mostrar el DataFrame\n",
        "print(df_conteo)\n"
      ],
      "metadata": {
        "colab": {
          "base_uri": "https://localhost:8080/"
        },
        "id": "bbt8nnOviUJf",
        "outputId": "eb14468c-3769-45b2-d8fc-f811c1409965"
      },
      "execution_count": null,
      "outputs": [
        {
          "output_type": "stream",
          "name": "stdout",
          "text": [
            "                         Conteo\n",
            "M                  46831.000000\n",
            "F                  52175.000000\n",
            "Exactitud General      0.806919\n"
          ]
        }
      ]
    },
    {
      "cell_type": "code",
      "source": [
        "import joblib\n",
        "\n",
        "joblib.dump(model, 'Gender_Predictor.pkl')\n",
        "joblib.dump(vectorizer, 'vectorizer.pkl')\n",
        "joblib.dump(le, 'label_encoder.pkl')"
      ],
      "metadata": {
        "colab": {
          "base_uri": "https://localhost:8080/"
        },
        "id": "bmacVV7rjkXX",
        "outputId": "1215032f-329e-4a19-f3d6-064c1a9e468b"
      },
      "execution_count": null,
      "outputs": [
        {
          "output_type": "execute_result",
          "data": {
            "text/plain": [
              "['label_encoder.pkl']"
            ]
          },
          "metadata": {},
          "execution_count": 18
        }
      ]
    },
    {
      "cell_type": "code",
      "source": [
        "# Contar planes tecnicos\n",
        "conteo_planes = df1['PLAN_TECNICO'].value_counts()\n",
        "\n",
        "# Encontrar el plan más utilizado\n",
        "plan_mas_utilizado = conteo_planes.index[0]\n",
        "repeticiones = conteo_planes.iloc[0]\n",
        "\n",
        "print(f\"El plan técnico más utilizado es '{plan_mas_utilizado}' con {repeticiones} servicios.\")\n"
      ],
      "metadata": {
        "colab": {
          "base_uri": "https://localhost:8080/"
        },
        "id": "X_-NvNZ9j6LK",
        "outputId": "071f8d9b-6799-45cd-9949-4b715e9196d9"
      },
      "execution_count": null,
      "outputs": [
        {
          "output_type": "stream",
          "name": "stdout",
          "text": [
            "El plan técnico más utilizado es '200.0' con 49953 servicios.\n"
          ]
        }
      ]
    },
    {
      "cell_type": "code",
      "source": [
        "# Contar municipios\n",
        "conteo_municipios = df1['MUNICIPIO'].value_counts()\n",
        "\n",
        "# Encontrar el municipio más repetido\n",
        "municipio_mas_repetido = conteo_municipios.index[0]\n",
        "repeticiones_municipio = conteo_municipios.iloc[0]\n",
        "\n",
        "print(f\"El municipio que más se repite es '{municipio_mas_repetido}' con {repeticiones_municipio} servicios.\")\n"
      ],
      "metadata": {
        "colab": {
          "base_uri": "https://localhost:8080/"
        },
        "id": "V6xMzhJ7lHgI",
        "outputId": "8e14cf19-fc6c-4aff-c92a-81338c1f1c78"
      },
      "execution_count": null,
      "outputs": [
        {
          "output_type": "stream",
          "name": "stdout",
          "text": [
            "El municipio que más se repite es 'IBAGUÉ' con 21840 servicios.\n"
          ]
        }
      ]
    },
    {
      "cell_type": "code",
      "source": [
        "import matplotlib.pyplot as plt\n",
        "# Datos para la visualización\n",
        "genero_mas_repetido = df_conteo.index[1]\n",
        "conteo_genero = df_conteo.iloc[1, 0]\n",
        "\n",
        "# Crear la visualización\n",
        "fig, ax = plt.subplots(figsize=(10, 6))\n",
        "\n",
        "# Gráfico de barras para el género más repetido\n",
        "bars = ax.bar(['Género más repetido'], [conteo_genero], color='skyblue')\n",
        "ax.set_ylabel('Conteo')\n",
        "ax.set_title('Cliente Promedio')\n",
        "ax.text(0, conteo_genero // 2, \"Femenino\", ha='center', va='center', fontsize=12, color='black')\n",
        "\n",
        "# Agregar conteo encima de la barra\n",
        "for bar in bars:\n",
        "    height = bar.get_height()\n",
        "    ax.text(bar.get_x() + bar.get_width() / 2, height, str(int(height)), ha='center', va='bottom')\n",
        "\n",
        "# Gráfico de barras para el plan más utilizado\n",
        "bars = ax.bar(['Plan más utilizado'], [repeticiones], color='lightgreen')\n",
        "ax.text(1, repeticiones // 2, plan_mas_utilizado, ha='center', va='center', fontsize=12, color='black')\n",
        "\n",
        "# Agregar conteo encima de la barra\n",
        "for bar in bars:\n",
        "    height = bar.get_height()\n",
        "    ax.text(bar.get_x() + bar.get_width() / 2, height, str(int(height)), ha='center', va='bottom')\n",
        "\n",
        "# Gráfico de barras para el municipio más repetido\n",
        "bars = ax.bar(['Municipio más repetido'], [repeticiones_municipio], color='lightcoral')\n",
        "ax.text(2, repeticiones_municipio // 2, municipio_mas_repetido, ha='center', va='center', fontsize=12, color='black')\n",
        "\n",
        "# Agregar conteo encima de la barra\n",
        "for bar in bars:\n",
        "    height = bar.get_height()\n",
        "    ax.text(bar.get_x() + bar.get_width() / 2, height, str(int(height)), ha='center', va='bottom')\n",
        "\n",
        "plt.tight_layout()\n",
        "plt.show()\n"
      ],
      "metadata": {
        "colab": {
          "base_uri": "https://localhost:8080/",
          "height": 607
        },
        "id": "XGg3jK60pQyF",
        "outputId": "488b4bbe-c0ca-456e-d936-64e2033804cd"
      },
      "execution_count": null,
      "outputs": [
        {
          "output_type": "display_data",
          "data": {
            "text/plain": [
              "<Figure size 1000x600 with 1 Axes>"
            ],
            "image/png": "[encoded data removed]"
          },
          "metadata": {}
        }
      ]
    }
  ]
}